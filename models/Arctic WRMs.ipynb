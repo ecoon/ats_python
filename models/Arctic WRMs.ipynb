{
 "cells": [
  {
   "cell_type": "code",
   "execution_count": 1,
   "metadata": {},
   "outputs": [
    {
     "name": "stdout",
     "output_type": "stream",
     "text": [
      "Using matplotlib backend: MacOSX\n"
     ]
    }
   ],
   "source": [
    "%matplotlib"
   ]
  },
  {
   "cell_type": "code",
   "execution_count": 2,
   "metadata": {},
   "outputs": [],
   "source": [
    "#%pylab inline\n",
    "import numpy as np\n",
    "\n",
    "from matplotlib import pyplot as plt\n",
    "import os,sys\n",
    "import scipy as sp"
   ]
  },
  {
   "cell_type": "code",
   "execution_count": 3,
   "metadata": {},
   "outputs": [],
   "source": [
    "import ewc\n",
    "import wrm_vangenuchten\n",
    "import permafrost_model_explicit_fpd\n",
    "import permafrost_model_explicit_fpd_smoothed\n",
    "import capillary_pressure\n"
   ]
  },
  {
   "cell_type": "code",
   "execution_count": 4,
   "metadata": {},
   "outputs": [
    {
     "data": {
      "text/plain": [
       "<module 'permafrost_model_explicit_fpd' from 'permafrost_model_explicit_fpd.pyc'>"
      ]
     },
     "execution_count": 4,
     "metadata": {},
     "output_type": "execute_result"
    }
   ],
   "source": [
    "reload(permafrost_model_explicit_fpd_smoothed)\n",
    "reload(permafrost_model_explicit_fpd)"
   ]
  },
  {
   "cell_type": "markdown",
   "metadata": {},
   "source": [
    "# WRMs"
   ]
  },
  {
   "cell_type": "code",
   "execution_count": 4,
   "metadata": {},
   "outputs": [],
   "source": [
    "colors = dict(A='b', A2='c', B='r', B2='m', C='g', C2='lime')"
   ]
  },
  {
   "cell_type": "code",
   "execution_count": 24,
   "metadata": {},
   "outputs": [],
   "source": [
    "wrms = dict()\n",
    "colors = dict()\n",
    "\n",
    "# mineral soil\n",
    "mA = 0.2481\n",
    "aA = 0.00033\n",
    "srA = 0.199\n",
    "wrms['mineral soil'] = wrm_vangenuchten.VanGenuchten(m=mA, alpha=aA, sr=srA, smoothing_interval=0.1)\n",
    "colors['mineral soil'] = 'k'\n",
    "\n",
    "# peat\n",
    "mB = 0.3055\n",
    "aB = 0.00095\n",
    "srB = 0.34\n",
    "wrms['peat, Atchley GMD'] = wrm_vangenuchten.VanGenuchten(m=mB, alpha=aB, sr=srB, smoothing_interval=0.05)\n",
    "colors['peat, Atchley GMD'] = 'r'\n",
    "\n",
    "# Moon and Graham peat\n",
    "mD = 0.19\n",
    "aD = 0.00051\n",
    "srD = 0.\n",
    "wrms['peat, Moon and Graham'] = wrm_vangenuchten.VanGenuchten(m=mD, alpha=aD, sr=srD, smoothing_interval=0.05)\n",
    "colors['peat, Moon and Graham'] = 'm'\n",
    "\n",
    "# Letts hemic peat\n",
    "mE = 0.41\n",
    "aE = 0.000204\n",
    "srE = 0.17\n",
    "wrms['peat, Letts hemic'] = wrm_vangenuchten.VanGenuchten(m=mE, alpha=aE, sr=srE, smoothing_interval=0.05)\n",
    "colors['peat, Letts hemic'] = 'b'\n",
    "\n",
    "mF = 0.47\n",
    "aF = 0.000817\n",
    "srF = .04\n",
    "wrms['peat, Letts fibric'] = wrm_vangenuchten.VanGenuchten(m=mF, alpha=aF, sr=srF, smoothing_interval=0.05)\n",
    "colors['peat, Letts fibric'] = 'c'\n",
    "\n",
    "# moss\n",
    "mC = 0.2754\n",
    "aC = 0.0023\n",
    "srC = 0.05\n",
    "#wrms['moss'] = wrm_vangenuchten.VanGenuchten(m=mC, alpha=aC, sr=srC, smoothing_interval=0.01)\n",
    "colors['moss'] = 'g'"
   ]
  },
  {
   "cell_type": "code",
   "execution_count": 25,
   "metadata": {},
   "outputs": [],
   "source": [
    "#wrms['OConnor acrotelm'] = wrm_vangenuchten.VanGenuchten(n=1.38, alpha=0.000587, sr=0.05)\n",
    "#colors['OConnor acrotelm'] = 'orange'\n",
    "#wrms['OConnor catotelm'] = wrm_vangenuchten.VanGenuchten(n=1.52, alpha=0.000114, sr=0.05)\n",
    "#colors['OConnor catotelm'] = 'goldenrod'\n",
    "\n",
    "wrms['OConnor acrotelm high sr'] = wrm_vangenuchten.VanGenuchten(n=1.38, alpha=0.000587, sr=0.34)\n",
    "colors['OConnor acrotelm high sr'] = 'orange'\n",
    "wrms['OConnor catotelm high sr'] = wrm_vangenuchten.VanGenuchten(n=1.52, alpha=0.000114, sr=0.34)\n",
    "colors['OConnor catotelm high sr'] = 'goldenrod'\n"
   ]
  },
  {
   "cell_type": "code",
   "execution_count": 26,
   "metadata": {},
   "outputs": [],
   "source": [
    "saturations = np.linspace(0,1,1000)\n",
    "spcs = dict()\n",
    "\n",
    "for key, wrm in wrms.iteritems():\n",
    "    sA = saturations[np.where(saturations > wrm._sr)[0]]\n",
    "    pcsA = np.array([wrm.capillaryPressure(s) for s in sA])\n",
    "    spcs[key] = sA,pcsA\n",
    "    \n",
    "\n"
   ]
  },
  {
   "cell_type": "code",
   "execution_count": 27,
   "metadata": {},
   "outputs": [],
   "source": [
    "# plot the WRMs\n",
    "plt.figure(figsize=(16,10))\n",
    "\n",
    "for key, (s,pc) in spcs.iteritems():\n",
    "    #if not key.startswith(\"moss\") and not key.startswith(\"mineral\"):\n",
    "    plt.semilogy(s,pc,color=colors[key], label=key)\n",
    "\n",
    "\n",
    "plt.legend(loc=\"upper right\")\n",
    "\n",
    "\n",
    "plt.show()"
   ]
  },
  {
   "cell_type": "markdown",
   "metadata": {},
   "source": [
    "## EWC plots -- energy"
   ]
  },
  {
   "cell_type": "code",
   "execution_count": 22,
   "metadata": {},
   "outputs": [],
   "source": [
    "Ts1 = np.arange(273.15-20, 273.15-5, 1.)\n",
    "Ts2 = np.arange(273.15-5, 273.15-1, .1)\n",
    "Ts3 = np.arange(273.15-1, 273.15+1, .001)\n",
    "Ts4 = np.arange(273.15+1, 273.15+5, .1)\n",
    "Ts5 = np.arange(273.15+5, 273.15+50, 1.)\n",
    "Ts = np.concatenate((Ts1, Ts2, Ts3, Ts4, Ts5))\n",
    "\n",
    "def ewc_func(wrm, poro=0.5, sl0=0.9, left=-1e8, right=1e6, coef=1, \n",
    "             pm_mod=permafrost_model_explicit_fpd, pc_ice=capillary_pressure.pc_ice):\n",
    "    # create the permafrost model\n",
    "    my_wrm = wrm_vangenuchten.VanGenuchten(m=wrm._m, alpha=wrm._alpha*coef, sr=wrm._sr, smoothing_interval=(1-wrm._s0))\n",
    "    pm = pm_mod.PermafrostModel(my_wrm, pc_ice=pc_ice)\n",
    "\n",
    "    if sl0 < 1.:\n",
    "        # determine the water content at sl0, T=273.15\n",
    "        wc0 = ewc.water_content(273.15, 101325. - my_wrm.capillaryPressure(sl0), poro, pm)\n",
    "\n",
    "        # for each temperature, determine the pressure that matches that wc\n",
    "        good_Ts = []\n",
    "        good_ps = []\n",
    "        for T in Ts:\n",
    "            def wcRoot(p):\n",
    "                return ewc.water_content(T,p,poro,pm) - wc0\n",
    "            \n",
    "            try:\n",
    "                myp,r = sp.optimize.brentq(wcRoot, left, right, full_output=True)\n",
    "            except ValueError:\n",
    "                print \"Bracket failure at T = \", T, \"wc = \", wc0\n",
    "                print \"   wc(\", left, \") = \", wcRoot(left)+wc0\n",
    "                print \"   wc(\", right,\") = \", wcRoot(right)+wc0\n",
    "            else:\n",
    "                if r.converged:\n",
    "                    good_Ts.append(T)\n",
    "                    good_ps.append(myp)\n",
    "        e_wc = np.array([ewc.ewc(T,p,poro,pm) for T,p in zip(good_Ts,good_ps)])\n",
    "        sats = np.array([pm.saturations_Tp(T,p) for T,p in zip(good_Ts, good_ps)])\n",
    "    \n",
    "    else:\n",
    "        good_Ts = Ts\n",
    "        good_ps = 101325.*np.ones(Ts.shape,'d')\n",
    "        e_wc = np.array([ewc.ewc(T,101325.,poro,pm) for T in Ts])\n",
    "        sats = np.array([pm.saturations_Tp(T,101315.) for T in Ts])\n",
    "    \n",
    "    result = dict()\n",
    "    result['T'] = np.array(good_Ts)\n",
    "    result['p'] = np.array(good_ps)\n",
    "    result['e'] = e_wc[:,0]\n",
    "    result['wc'] = e_wc[:,1]\n",
    "    result['porosity'] = poro\n",
    "    result['si'] = sats[:,2]\n",
    "    result['sl'] = sats[:,1]\n",
    "    result['sg'] = sats[:,0]\n",
    "    result['kr'] = np.array([my_wrm.k_relative(sl) for sl in sats[:,1]])\n",
    "    print sats[:,1]\n",
    "    print result['kr']\n",
    "    return result\n",
    "\n",
    "\n",
    "def surf_func(transition=1.):\n",
    "    \n",
    "    def uf(temp):\n",
    "        adj = temp - 273.15\n",
    "        if adj > 0.:\n",
    "            return 1.\n",
    "        elif adj < -transition:\n",
    "            return 0.\n",
    "        else:\n",
    "            return (np.sin(np.pi/2. * (adj + transition/2.)/(transition/2.)) + 1.)/2.\n",
    "    \n",
    "    result = dict()\n",
    "    result['T'] = Ts.copy()\n",
    "    result['p'] = 101325*np.ones(Ts.shape,'d')\n",
    "        \n",
    "    result['sg'] = np.zeros(Ts.shape,'d')\n",
    "    result['sl'] = np.array([uf(T) for T in Ts])\n",
    "    result['si'] = 1.-result['sl']\n",
    "    \n",
    "    result['e'] = None\n",
    "    return result\n",
    "    "
   ]
  },
  {
   "cell_type": "code",
   "execution_count": 23,
   "metadata": {},
   "outputs": [],
   "source": [
    "def getAxs(fig=None):\n",
    "    if fig is None:\n",
    "        fig = plt.figure(figsize=(14,4))\n",
    "        \n",
    "    axs = []\n",
    "    axs.append(fig.add_subplot(141))\n",
    "    axs.append(fig.add_subplot(142))\n",
    "    axs.append(fig.add_subplot(143))\n",
    "    axs.append(fig.add_subplot(144))\n",
    "    axs[0].set_xlabel(\"Temperature [K]\")\n",
    "    axs[1].set_xlabel(\"Temperature [K]\")\n",
    "    axs[2].set_xlabel(\"Temperature [K]\")\n",
    "\n",
    "    axs[0].set_ylabel(\"pressure [Pa]\")\n",
    "    axs[1].set_ylabel(\"energy [J/m^3]\")\n",
    "    axs[2].set_ylabel(\"ice/liq saturation [-]\")\n",
    "    axs[3].set_ylabel(\"relative perm [-]\")\n",
    "    return axs\n",
    "    \n",
    "def plot(res, color, name, axs):\n",
    "    axs[0].plot(res['T'],res['p'],'-x', color=color, label=name)\n",
    "    if res['e'] is not None:\n",
    "        axs[1].plot(res['T'],res['e'],'-x', color=color)\n",
    "    #axs[2].plot(res['T'],res['si'],'-x',color=color)\n",
    "    axs[2].plot(res['T'],res['sl'],'--x',color=color)\n",
    "    axs[3].semilogy(res['sl'],res['kr'],'--x',color=color)\n",
    "\n",
    "    \n",
    "def finishPlot(axs):\n",
    "    axs[0].legend(loc=\"lower right\")"
   ]
  },
  {
   "cell_type": "code",
   "execution_count": 30,
   "metadata": {},
   "outputs": [
    {
     "name": "stdout",
     "output_type": "stream",
     "text": [
      "{'y2': 1.0, 'dy1': 0.33439785515101356, 'dy2': 0.0, 'y1': 0.017555919376195488, 'x2': 1.0, 'x1': 0.9}\n",
      "0.33439778408\n",
      "0.334397860912\n",
      "0.334397855151\n",
      "[ 0.27485664  0.27694479  0.27917624 ...,  0.99972584  0.99972584\n",
      "  0.99972584]\n",
      "[  5.14850398e-10   5.86857881e-10   6.73829045e-10 ...,   9.99978137e-01\n",
      "   9.99978137e-01   9.99978137e-01]\n",
      "[ 0.27485664  0.27694479  0.27917624 ...,  0.99972584  0.99972584\n",
      "  0.99972584]\n",
      "[  5.14850398e-10   5.86857881e-10   6.73829045e-10 ...,   4.97832675e-01\n",
      "   4.97832675e-01   4.97832675e-01]\n",
      "[ 0.27485664  0.27694479  0.27917624 ...,  0.99972584  0.99972584\n",
      "  0.99972584]\n",
      "[  5.14850398e-10   5.86857881e-10   6.73829045e-10 ...,   9.99978137e-01\n",
      "   9.99978137e-01   9.99978137e-01]\n"
     ]
    }
   ],
   "source": [
    "print wrmA._spline.__dict__\n",
    "\n",
    "print wrmA.d_k_relative(0.89999999)\n",
    "print wrmA.d_k_relative(0.90000000001)\n",
    "print wrmA._spline.dy1\n",
    "\n",
    "resultA = ewc_func(wrmA, poro=0.7, sl0=1, pm_mod=permafrost_model_explicit_fpd)\n",
    "resultA2 = ewc_func(wrmA2, poro=0.7, sl0=1, pm_mod=permafrost_model_explicit_fpd, pc_ice=capillary_pressure.pc_ice_regularized(0.2))\n",
    "resultA3 = ewc_func(wrmA, poro=0.7, sl0=1, pm_mod=permafrost_model_explicit_fpd, pc_ice=capillary_pressure.pc_ice_regularized(0.2))\n",
    "\n",
    "#resultA2 = ewc_func(wrmA, poro=0.5, sl0=0.9, coef=.01)\n",
    "\n",
    "\n"
   ]
  },
  {
   "cell_type": "code",
   "execution_count": null,
   "metadata": {},
   "outputs": [],
   "source": [
    "\n",
    "resultB = ewc_func(wrmB, poro=0.85, sl0=1, pm_mod=permafrost_model_explicit_fpd)\n",
    "resultB3 = ewc_func(wrmB, poro=0.85, sl0=1, pm_mod=permafrost_model_explicit_fpd, pc_ice=capillary_pressure.pc_ice_regularized(0.2))\n",
    "\n",
    "\n",
    "#resultB2 = ewc_func(wrmB,0.85, sl0=0.9, right=1e10, coef=10)"
   ]
  },
  {
   "cell_type": "code",
   "execution_count": null,
   "metadata": {},
   "outputs": [],
   "source": [
    "\n",
    "resultC = ewc_func(wrmC,0.9,0.9)\n",
    "resultC2 = ewc_func(wrmC,0.9,0.9, pm_mod=permafrost_model_explicit_fpd_smoothed)\n",
    "\n",
    "#resultC2 = ewc_func(wrmC,0.9,0.5, coef=10)"
   ]
  },
  {
   "cell_type": "code",
   "execution_count": 25,
   "metadata": {},
   "outputs": [
    {
     "name": "stdout",
     "output_type": "stream",
     "text": [
      "Using matplotlib backend: MacOSX\n"
     ]
    }
   ],
   "source": [
    "%matplotlib\n",
    "axs = getAxs()\n",
    "plot(resultA, 'b', 'soil, fpd', axs)\n",
    "plot(resultA2, 'c', 'soil, fpd smoothed', axs)\n",
    "plot(resultA3, 'g', 'soil, fpd smoothed', axs)\n",
    "\n",
    "\n",
    "finishPlot(axs)\n",
    "plt.tight_layout()\n",
    "plt.show()"
   ]
  },
  {
   "cell_type": "code",
   "execution_count": null,
   "metadata": {},
   "outputs": [],
   "source": [
    "axs = getAxs()\n",
    "plot(resultB, 'r', 'peat, fpd', axs)\n",
    "plot(resultB3, 'm', 'peat, fpd smoothed', axs)\n",
    "\n",
    "finishPlot(axs)\n",
    "plt.tight_layout()"
   ]
  },
  {
   "cell_type": "code",
   "execution_count": null,
   "metadata": {},
   "outputs": [],
   "source": [
    "axs = getAxs()\n",
    "plot(resultC, 'g', 'moss, fpd', axs)\n",
    "plot(resultC2, 'lime', 'moss, fpd smoothed', axs)\n",
    "\n",
    "finishPlot(axs)\n",
    "plt.tight_layout()\n",
    "plt.show()"
   ]
  },
  {
   "cell_type": "code",
   "execution_count": null,
   "metadata": {},
   "outputs": [],
   "source": [
    "axs = getAxs()\n",
    "plot(resultA, 'b', 'soil, s=0.9', axs)\n",
    "plot(resultA2, 'c', 'soil, s=0.5', axs)\n",
    "plot(resultB, 'r', 'peat, s=0.9', axs)\n",
    "plot(resultB2, 'm', 'peat, s=0.5', axs)\n",
    "plot(resultC, 'g', 'moss, s=0.9', axs)\n",
    "plot(resultC2, 'lime', 'moss, s=0.5', axs)\n",
    "finishPlot(axs)\n",
    "plt.tight_layout()\n",
    "plt.show()"
   ]
  },
  {
   "cell_type": "code",
   "execution_count": null,
   "metadata": {},
   "outputs": [],
   "source": [
    "axs = getAxs()\n",
    "resultAs = ewc_func(wrmA, poro=0.5, sl0=1.)\n",
    "resultBs = ewc_func(wrmB, poro=0.7, sl0=1.)\n",
    "resultCs = ewc_func(wrmC, poro=0.9, sl0=1.)\n",
    "resultSurf = surf_func(1)\n",
    "resultSurf2 = surf_func(.1)\n",
    "\n",
    "plot(resultAs, 'b', 'soil', axs)\n",
    "plot(resultBs, 'r', 'peat', axs)\n",
    "plot(resultCs, 'g', 'moss', axs)\n",
    "plot(resultSurf, 'goldenrod', 'surface 1.', axs)\n",
    "plot(resultSurf2, 'k', 'surface 0.1', axs)\n",
    "plt.show()\n"
   ]
  },
  {
   "cell_type": "markdown",
   "metadata": {},
   "source": [
    "## Check of smoothing of $k_r$"
   ]
  },
  {
   "cell_type": "code",
   "execution_count": null,
   "metadata": {},
   "outputs": [],
   "source": []
  },
  {
   "cell_type": "code",
   "execution_count": null,
   "metadata": {},
   "outputs": [],
   "source": [
    "#wrmA2 = wrm_vangenuchten.VanGenuchten(m=0.1909, alpha=0.000545, sr=0.1, smoothing_interval=0.)\n",
    "#wrmB2 = wrm_vangenuchten.VanGenuchten(m=0.4736, alpha=8.2e-6, sr=0.047058, smoothing_interval=1000.)\n",
    "#wrmC2 = wrm_vangenuchten.VanGenuchten(m=0.275, alpha=0.00235, sr=0.055555, smoothing_interval=0.)"
   ]
  },
  {
   "cell_type": "code",
   "execution_count": null,
   "metadata": {},
   "outputs": [],
   "source": [
    "kr = np.array([wrmA.k_relative(apc) for apc in pc])\n",
    "kr2 = np.array([wrmA2.k_relative(apc) for apc in pc])"
   ]
  },
  {
   "cell_type": "code",
   "execution_count": null,
   "metadata": {},
   "outputs": [],
   "source": [
    "s = np.array([wrmC.saturation(apc) for apc in pc])kr = np.array([wrmC.k_relative(apc) for apc in pc])\n",
    "kr2 = np.array([wrmC2.k_relative(apc) for apc in pc])\n",
    "plt.plot(s, kr,'b')\n",
    "plt.plot(s, kr2,'r')\n",
    "plt.xlim(0.9,1)"
   ]
  },
  {
   "cell_type": "code",
   "execution_count": null,
   "metadata": {},
   "outputs": [],
   "source": [
    "s = np.array([wrmB.saturation(apc) for apc in pc])\n",
    "kr = np.array([wrmB.k_relative(apc) for apc in pc])\n",
    "kr2 = np.array([wrmB2.k_relative(apc) for apc in pc])\n",
    "plt.plot(s, kr,'b')\n",
    "plt.plot(s, kr2,'r')\n",
    "plt.xlim(0.9999,1)\n",
    "plt.ylim(0.9,1)"
   ]
  },
  {
   "cell_type": "markdown",
   "metadata": {},
   "source": [
    "## EWC -- saturation to unsaturated transition"
   ]
  },
  {
   "cell_type": "code",
   "execution_count": null,
   "metadata": {},
   "outputs": [],
   "source": [
    "ps1 = np.arange(0, 70000, 1000.)\n",
    "ps2 = np.arange(70000, 110000, 100.)\n",
    "ps3 = np.arange(110000, 150000, 1000.)\n",
    "ps = np.concatenate((ps1, ps2, ps3))\n",
    "\n",
    "def wc_func(wrm, poro, T, ps=ps):\n",
    "    # create the permafrost model\n",
    "    pm = permafrost_model_explicit_fpd.PermafrostModel(wrm)\n",
    " \n",
    "    wc = np.array([ewc.water_content(T,p,poro,pm) for p in ps])\n",
    "    sats = np.array([pm.saturations_Tp(T,p) for p in ps])\n",
    "\n",
    "    result = dict()\n",
    "    result['p'] = ps\n",
    "    result['wc'] = wc\n",
    "    result['T'] = T\n",
    "    result['porosity'] = poro\n",
    "    result['si'] = sats[:,2]\n",
    "    result['sl'] = sats[:,1]\n",
    "    result['sg'] = sats[:,0]\n",
    "    return result\n",
    "\n",
    "def wc_getAxs(fig=None):\n",
    "    if fig is None:\n",
    "        fig = plt.figure(figsize=(14,4))\n",
    "        \n",
    "    axs = []\n",
    "    axs.append(fig.add_subplot(121))\n",
    "    axs.append(fig.add_subplot(122))\n",
    "    axs[0].set_xlabel(\"pressure [Pa]\")\n",
    "    axs[1].set_xlabel(\"pressure [Pa]\")\n",
    "\n",
    "    axs[0].set_ylabel(\"water content [mol/m^3]\")\n",
    "    axs[1].set_ylabel(\"gas saturation [-]\")\n",
    "    return axs\n",
    "    \n",
    "def wc_plot(res, color, name, axs):\n",
    "    axs[0].plot(res['p'],res['wc'],'-x', color=color, label=name)\n",
    "    axs[0].plot(res['p'][1:],10000*(res['wc'][1:] - res['wc'][:-1])/(res['p'][1:] - res['p'][:-1]),'-x', color=color, label=name)\n",
    "    axs[1].plot(res['p'],res['sg'],'-x', color=color)\n",
    "\n"
   ]
  },
  {
   "cell_type": "code",
   "execution_count": null,
   "metadata": {},
   "outputs": [],
   "source": [
    "# mineral soil\n",
    "wrmA = wrm_vangenuchten.VanGenuchten(m=0.1909, alpha=0.000545, sr=0.1, smoothing_interval=100.)\n",
    "resultA = wc_func(wrmA, 0.5, 273.65)\n",
    "resultA2 = wc_func(wrmA, 0.5, 271.65)\n",
    "\n",
    "axs = wc_getAxs()\n",
    "wc_plot(resultA, 'b', 'soil, unfrozen', axs)\n",
    "wc_plot(resultA2, 'c', 'soil, frozen', axs)\n",
    "\n",
    "finishPlot(axs)\n",
    "plt.tight_layout()\n",
    "\n"
   ]
  },
  {
   "cell_type": "code",
   "execution_count": null,
   "metadata": {},
   "outputs": [],
   "source": [
    "ps1 = np.arange(-1000000, 70000, 5000.)\n",
    "ps2 = np.arange(70000, 110000, 100.)\n",
    "ps3 = np.arange(110000, 150000, 1000.)\n",
    "ps = np.concatenate((ps1, ps2, ps3))\n",
    "\n",
    "# peat soil\n",
    "wrmB = wrm_vangenuchten.VanGenuchten(m=0.4736, alpha=8.2e-6, sr=0.047058, smoothing_interval=0)\n",
    "resultB = wc_func(wrmB, 0.5, 273.65, ps)\n",
    "resultB2 = wc_func(wrmB, 0.5, 271.65, ps)\n",
    "\n",
    "axs = wc_getAxs()\n",
    "wc_plot(resultB, 'r', 'peat, unfrozen', axs)\n",
    "wc_plot(resultB2, 'm', 'peat, frozen', axs)\n",
    "\n",
    "finishPlot(axs)\n",
    "plt.tight_layout()"
   ]
  },
  {
   "cell_type": "code",
   "execution_count": null,
   "metadata": {},
   "outputs": [],
   "source": [
    "# moss\n",
    "wrmC = wrm_vangenuchten.VanGenuchten(m=0.275, alpha=0.00235, sr=0.055555, smoothing_interval=100.)\n",
    "resultC = wc_func(wrmC, 0.5, 273.65)\n",
    "resultC2 = wc_func(wrmC, 0.5, 271.65)\n",
    "\n",
    "axs = wc_getAxs()\n",
    "wc_plot(resultC, 'g', 'moss, unfrozen', axs)\n",
    "wc_plot(resultC2, 'lime', 'moss, frozen', axs)\n",
    "\n",
    "finishPlot(axs)\n",
    "plt.tight_layout()"
   ]
  },
  {
   "cell_type": "code",
   "execution_count": null,
   "metadata": {},
   "outputs": [],
   "source": [
    "wrm = wrmA\n",
    "pm = permafrost_model_explicit_fpd.PermafrostModel(wrm)\n",
    "\n",
    "p = 101647.904162\n",
    "T = 273.120525\n",
    "print pm.saturations_Tp(T,p)"
   ]
  },
  {
   "cell_type": "code",
   "execution_count": null,
   "metadata": {},
   "outputs": [],
   "source": [
    "ps = np.linspace(101640, 101660, 10000)\n",
    "wcs = np.array([ewc.water_content(T, ap, 0.5, pm) for ap in ps])\n",
    "plt.plot(ps, wcs, '-x')\n"
   ]
  },
  {
   "cell_type": "code",
   "execution_count": null,
   "metadata": {},
   "outputs": [],
   "source": [
    "Ts = np.linspace(T-1.e-4, T+1.e-4, 10000)\n",
    "wcs = np.array([ewc.water_content(aT, p, 0.5, pm) for aT in Ts])\n",
    "plt.plot(Ts, wcs)\n"
   ]
  },
  {
   "cell_type": "code",
   "execution_count": null,
   "metadata": {},
   "outputs": [],
   "source": [
    "from mpl_toolkits.mplot3d import Axes3D\n",
    "import matplotlib.cm as cm\n",
    "\n",
    "def plot_neighborhood(p,T,poro,wrm):\n",
    "    pm = permafrost_model_explicit_fpd.PermafrostModel(wrm)\n",
    "    ps = np.arange(p-1000.,p+1000.,5)\n",
    "    Ts = np.arange(T-1, T+1, 0.004)\n",
    "    es = np.zeros((len(ps),len(Ts)),'d')\n",
    "    wcs = np.zeros((len(ps),len(Ts)),'d')\n",
    "    \n",
    "    \n",
    "    for i in range(len(ps)):\n",
    "        for j in range(len(Ts)):\n",
    "            es[i,j],wcs[i,j] = ewc.ewc(Ts[j],ps[i],poro,pm)\n",
    "\n",
    "    \n",
    "    PS,TS = np.meshgrid(ps,Ts)\n",
    "    \n",
    "    centroid = ewc.ewc(T,p,poro,pm)\n",
    "    print p,T,centroid\n",
    "    \n",
    "    fig = plt.figure()\n",
    "    ax1 = fig.add_subplot(121,projection='3d')\n",
    "    ax2 = fig.add_subplot(122,projection='3d')\n",
    "    \n",
    "    ax1.plot_surface(PS.transpose(),TS.transpose(),es,cmap=cm.jet)\n",
    "    ax1.set_xlabel(\"pressure\")\n",
    "    ax1.set_ylabel(\"temp\")\n",
    "    ax1.set_zlabel(\"energy\")\n",
    "    ax1.scatter([p],[T],[centroid[0]],s=100, c='white')\n",
    "    \n",
    "    \n",
    "    \n",
    "    ax2.plot_surface(PS.transpose(),TS.transpose(),wcs, cmap=cm.jet)\n",
    "    ax2.set_xlabel(\"pressure\")\n",
    "    ax2.set_ylabel(\"temp\")\n",
    "    ax2.set_zlabel(\"wc\")\n",
    "    ax2.scatter([p],[T],[centroid[1]],s=100, c='white')\n",
    "    \n",
    "    "
   ]
  },
  {
   "cell_type": "code",
   "execution_count": null,
   "metadata": {},
   "outputs": [],
   "source": [
    "plot_neighborhood(85259.661,273.143,0.5,wrmA)"
   ]
  },
  {
   "cell_type": "code",
   "execution_count": null,
   "metadata": {},
   "outputs": [],
   "source": [
    "plt.show()\n"
   ]
  },
  {
   "cell_type": "code",
   "execution_count": null,
   "metadata": {},
   "outputs": [],
   "source": []
  },
  {
   "cell_type": "code",
   "execution_count": null,
   "metadata": {},
   "outputs": [],
   "source": []
  }
 ],
 "metadata": {
  "anaconda-cloud": {},
  "kernelspec": {
   "display_name": "Python 2",
   "language": "python",
   "name": "python2"
  },
  "language_info": {
   "codemirror_mode": {
    "name": "ipython",
    "version": 2
   },
   "file_extension": ".py",
   "mimetype": "text/x-python",
   "name": "python",
   "nbconvert_exporter": "python",
   "pygments_lexer": "ipython2",
   "version": "2.7.14"
  }
 },
 "nbformat": 4,
 "nbformat_minor": 1
}
