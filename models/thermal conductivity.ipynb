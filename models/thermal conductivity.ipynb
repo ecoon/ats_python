{
 "cells": [
  {
   "cell_type": "code",
   "execution_count": 1,
   "metadata": {
    "autoscroll": false,
    "collapsed": false,
    "ein.hycell": false,
    "ein.tags": "worksheet-0",
    "slideshow": {
     "slide_type": "-"
    }
   },
   "outputs": [],
   "source": [
    "###%pylab inline\n",
    "import numpy as np\n",
    "\n",
    "from matplotlib import pyplot as plt\n",
    "from matplotlib import cm\n",
    "from matplotlib import colors as ml_colors\n",
    "from matplotlib.ticker import LinearLocator, FormatStrFormatter\n",
    "from mpl_toolkits.mplot3d import Axes3D\n",
    "import os,sys"
   ]
  },
  {
   "cell_type": "code",
   "execution_count": 2,
   "metadata": {
    "autoscroll": false,
    "collapsed": false,
    "ein.hycell": false,
    "ein.tags": "worksheet-0",
    "slideshow": {
     "slide_type": "-"
    }
   },
   "outputs": [],
   "source": [
    "sys.path.append('/home/ecoon/research/arctic/ats-python/src/models')\n",
    "import ewc\n",
    "import wrm_vangenuchten\n",
    "import permafrost_model_explicit_fpd"
   ]
  },
  {
   "cell_type": "code",
   "execution_count": 3,
   "metadata": {
    "autoscroll": false,
    "collapsed": false,
    "ein.hycell": false,
    "ein.tags": "worksheet-0",
    "slideshow": {
     "slide_type": "-"
    }
   },
   "outputs": [],
   "source": [
    "class TC(object):\n",
    "\n",
    "    def thermal_conductivity(self, poro, sl, si):\n",
    "        raise RuntimeError(\"class TC is not implemented\")\n",
    "    \n",
    "    def plot_end_members(self, poro, s_r, axs=None, color='k', label=None, npoints=1000):\n",
    "        if axs is None:\n",
    "            fig = plt.figure(figsize=(4,8))\n",
    "            axs = []\n",
    "            axs.append(fig.add_subplot(311))\n",
    "            axs.append(fig.add_subplot(312))\n",
    "            axs.append(fig.add_subplot(313))\n",
    "    \n",
    "        # unfrozen\n",
    "        sle = np.linspace(0,1,npoints)\n",
    "        sl = sle*(1-s_r) + s_r\n",
    "        si = 0\n",
    "        tc_u = np.array([self.thermal_conductivity(poro, s, si) for s in sl])\n",
    "        axs[0].plot(sle, tc_u, color=color, label=label)\n",
    "        axs[0].set_xlabel(\"1 - reduced gas saturation\")\n",
    "        axs[0].set_title(\"T > 0\")\n",
    "        axs[0].set_ylabel(\"thermal conductivity\")\n",
    "    \n",
    "        # frozen\n",
    "        sie = np.linspace(0,1,1000)\n",
    "        si = sie*(1-s_r)\n",
    "        tc_f = np.array([self.thermal_conductivity(poro, s_r, s) for s in si])\n",
    "        axs[1].plot(sie, tc_f, color=color, label=label)\n",
    "        axs[1].set_xlabel(\"1 - reduced gas saturation\")\n",
    "        axs[1].set_title(\"T << 0\")\n",
    "        axs[1].set_ylabel(\"thermal conductivity\")\n",
    "        \n",
    "        # transition\n",
    "        sie = np.linspace(0,1,1000)\n",
    "        si = sie*(1-s_r)\n",
    "        tc_t = np.array([self.thermal_conductivity(poro, 1-s, s) for s in si])\n",
    "        axs[2].plot(sie, tc_t, color=color, label=label)\n",
    "        axs[2].set_xlabel(\"reduced ice saturation\")\n",
    "        axs[2].set_ylabel(\"thermal conductivity\")\n",
    "        axs[2].set_title(\"sg = 0\")\n",
    "        \n",
    "    def plot_pcolor(self, poro, s_r, ax=None):\n",
    "    \n",
    "        sle = np.linspace(0,1,100)\n",
    "        sie = np.linspace(0,1,100)\n",
    "\n",
    "        sl = sle*(1-s_r) + s_r\n",
    "        si = sie*(1-s_r)\n",
    "        TC = np.array([[self.thermal_conductivity(poro, k,j) for k in sl] for j in si])\n",
    "        if ax is None:\n",
    "            fig = plt.figure()\n",
    "            ax = fig.add_subplot(111)\n",
    "        ax.imshow(TC, origin='lower')\n",
    "        ax.set_xlabel(\"reduced liquid saturation\")\n",
    "        ax.set_ylabel(\"reduced ice saturation\")\n",
    "        return TC\n",
    "        \n",
    "    def plot_surf(self, poro, s_r, fig, ax=None):\n",
    "    \n",
    "        sle = np.linspace(0,1,100)\n",
    "        sie = np.linspace(0,1,100)\n",
    "\n",
    "        sl = sle*(1-s_r) + s_r\n",
    "        si = sie*(1-s_r)\n",
    "        TC = np.array([[self.thermal_conductivity(poro, k,j) for k in sl] for j in si])\n",
    "\n",
    "        if ax is None:\n",
    "            ax = fig.add_subplot(111,projection=\"3d\")\n",
    "        \n",
    "        cmap = cm.jet\n",
    "        vmin = np.min(np.where(np.isnan(TC),1.e10,TC))\n",
    "        vmax = np.max(np.where(np.isnan(TC),-1.e10,TC))\n",
    "        norml = ml_colors.Normalize(vmin=vmin, vmax=vmax, clip = True)\n",
    "        \n",
    "        SLE,SIE = np.meshgrid(sle,sie)\n",
    "        surf = ax.plot_surface(SLE, SIE, TC, rstride=1, cstride=1, cmap=cmap, norm=norml, \n",
    "                               linewidth=0, antialiased=False)\n",
    "\n",
    "        ax.set_xlabel(\"reduced liquid saturation\")\n",
    "        ax.set_ylabel(\"reduced ice saturation\")\n",
    "        ax.set_zlabel(\"thermal conductivity\")\n",
    "        fig.colorbar(surf,shrink=0.5,aspect=5)\n",
    "        return TC, ax        \n",
    "        \n",
    "\n",
    "        "
   ]
  },
  {
   "cell_type": "code",
   "execution_count": 4,
   "metadata": {
    "autoscroll": false,
    "collapsed": false,
    "ein.hycell": false,
    "ein.tags": "worksheet-0",
    "slideshow": {
     "slide_type": "-"
    }
   },
   "outputs": [],
   "source": [
    "class PetersLidard(TC):\n",
    "    d_ = 0.053\n",
    "    eps_ = 1.e-10\n",
    "    \n",
    "    def __init__(self, a_u, a_f, k_soil, k_gas=0.024, k_liq=0.5611, k_ice=2.27742):\n",
    "        self.a_u = a_u\n",
    "        self.a_f = a_f\n",
    "        self.k_soil = k_soil\n",
    "        self.k_gas = k_gas\n",
    "        self.k_liq = k_liq\n",
    "        self.k_ice = k_ice\n",
    "        \n",
    "    def thermal_conductivity(self, poro, sl, si):\n",
    "        if sl + si > 1: return np.nan\n",
    "        k_dry = (self.d_*(1-poro)*self.k_soil + self.k_gas*poro) / \\\n",
    "            (self.d_*(1-poro) + poro)\n",
    "        k_sat_u = pow(self.k_soil,(1-poro)) * pow(self.k_liq,poro)\n",
    "        k_sat_f = pow(self.k_soil,(1-poro)) * pow(self.k_ice,poro)\n",
    "        kersten_u = pow(sl + self.eps_, self.a_u)\n",
    "        kersten_f = pow(si + self.eps_, self.a_f)\n",
    "\n",
    "        return kersten_f * k_sat_f + kersten_u * k_sat_u + (1.0 - kersten_f - kersten_u) * k_dry\n",
    " "
   ]
  },
  {
   "cell_type": "code",
   "execution_count": 5,
   "metadata": {
    "autoscroll": false,
    "collapsed": false,
    "ein.hycell": false,
    "ein.tags": "worksheet-0",
    "slideshow": {
     "slide_type": "-"
    }
   },
   "outputs": [],
   "source": [
    "class PetersLidard2(TC):\n",
    "    d_ = 0.053\n",
    "    eps_ = 1.e-10\n",
    "    \n",
    "    def __init__(self, a_u, a_f, k_soil, k_gas=0.024, k_liq=0.5611, k_ice=2.27742):\n",
    "        self.a_u = a_u\n",
    "        self.a_f = a_f\n",
    "        self.k_soil = k_soil\n",
    "        self.k_gas = k_gas\n",
    "        self.k_liq = k_liq\n",
    "        self.k_ice = k_ice\n",
    "        \n",
    "    def thermal_conductivity(self, poro, sl, si):\n",
    "        if sl + si > 1: return np.nan\n",
    "        k_dry = (self.d_*(1-poro)*self.k_soil + self.k_gas*poro) / \\\n",
    "            (self.d_*(1-poro) + poro)\n",
    "        k_sat_u = pow(self.k_soil,(1-poro)) * pow(self.k_liq,poro)\n",
    "        k_sat_f = pow(self.k_soil,(1-poro)) * pow(self.k_ice,poro)\n",
    "        kersten_u = pow(sl + self.eps_, self.a_u)\n",
    "        kersten_f = pow(si + self.eps_, self.a_f)\n",
    "\n",
    "        k_f = kersten_f * k_sat_f + (1-kersten_f)*k_dry\n",
    "        k_u = kersten_u * k_sat_u + (1-kersten_u)*k_dry\n",
    "        uf = sl / (sl + si)\n",
    "        \n",
    "        return uf*k_u + (1-uf)*k_f\n",
    " "
   ]
  },
  {
   "cell_type": "code",
   "execution_count": 6,
   "metadata": {
    "autoscroll": false,
    "collapsed": false,
    "ein.hycell": false,
    "ein.tags": "worksheet-0",
    "slideshow": {
     "slide_type": "-"
    }
   },
   "outputs": [
    {
     "name": "stderr",
     "output_type": "stream",
     "text": [
      "/Users/uec/codes/anaconda/2/5.1.0/base/lib/python2.7/site-packages/matplotlib/colors.py:489: RuntimeWarning: invalid value encountered in less\n",
      "  np.copyto(xa, -1, where=xa < 0.0)\n"
     ]
    },
    {
     "name": "stderr",
     "output_type": "stream",
     "text": [
      "/Users/uec/codes/anaconda/2/5.1.0/base/lib/python2.7/site-packages/numpy/core/_methods.py:29: RuntimeWarning: invalid value encountered in reduce\n",
      "  return umr_minimum(a, axis, None, out, keepdims)\n"
     ]
    },
    {
     "data": {
      "image/png": "[encoded data removed]",
      "text/plain": [
       "<matplotlib.figure.Figure at 0x107ea1390>"
      ]
     },
     "metadata": {},
     "output_type": "display_data"
    }
   ],
   "source": [
    "fig = plt.figure()\n",
    "tc_peat = PetersLidard(0.397947, 2.00553, 0.107283)\n",
    "vals,ax = tc_peat.plot_surf(0.876418, 0.345733, fig)\n",
    "\n",
    "tc_soil = PetersLidard(0.797355, 0.732066, 2.32081)\n",
    "tc_soil.plot_surf(0.59611, 0.199097, fig, ax)\n",
    "\n",
    "plt.show()"
   ]
  },
  {
   "cell_type": "code",
   "execution_count": 8,
   "metadata": {
    "autoscroll": false,
    "collapsed": false,
    "ein.hycell": false,
    "ein.tags": "worksheet-0",
    "slideshow": {
     "slide_type": "-"
    }
   },
   "outputs": [
    {
     "name": "stdout",
     "output_type": "stream",
     "text": [
      "('peat:', 0.4377880117599548)\n",
      "('soil:', 0.99010223770549)\n"
     ]
    }
   ],
   "source": [
    "poro_peat = 0.85\n",
    "sr_peat = 0.3\n",
    "poro_soil = 0.6\n",
    "sr_soil = 0.1\n",
    "\n",
    "print('peat:',tc_peat.thermal_conductivity(poro_peat, 1,0))\n",
    "print('soil:',tc_soil.thermal_conductivity(poro_soil, 1,0))"
   ]
  },
  {
   "cell_type": "code",
   "execution_count": null,
   "metadata": {
    "autoscroll": false,
    "collapsed": false,
    "ein.hycell": false,
    "ein.tags": "worksheet-0",
    "slideshow": {
     "slide_type": "-"
    }
   },
   "outputs": [],
   "source": []
  }
 ],
 "metadata": {
  "anaconda-cloud": null,
  "kernelspec": {
   "display_name": "Python [default]",
   "language": "python",
   "name": "python2"
  },
  "language_info": {
   "codemirror_mode": {
    "name": "ipython",
    "version": 2
   },
   "file_extension": ".py",
   "mimetype": "text/x-python",
   "name": "python",
   "nbconvert_exporter": "python",
   "pygments_lexer": "ipython2",
   "version": "2.7.12"
  },
  "name": "thermal conductivity.ipynb"
 },
 "nbformat": 4,
 "nbformat_minor": 0
}
